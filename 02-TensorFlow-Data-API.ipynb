{
  "nbformat": 4,
  "nbformat_minor": 0,
  "metadata": {
    "colab": {
      "name": "TensorFlow Data API",
      "provenance": []
    },
    "kernelspec": {
      "name": "python3",
      "display_name": "Python 3"
    }
  },
  "cells": [
    {
      "cell_type": "code",
      "metadata": {
        "id": "Xn6q6luV0etD"
      },
      "source": [
        "import tensorflow as tf\n",
        "\n",
        "tf.__version__"
      ],
      "execution_count": null,
      "outputs": []
    },
    {
      "cell_type": "code",
      "metadata": {
        "id": "SgHAMeLA1bxF"
      },
      "source": [
        "X = tf.range(10)\n",
        "dataset = tf.data.Dataset.from_tensor_slices(X)\n",
        "dataset"
      ],
      "execution_count": null,
      "outputs": []
    },
    {
      "cell_type": "code",
      "metadata": {
        "id": "KWsaVvYp15T7"
      },
      "source": [
        "for item in dataset:\n",
        "  print(item)"
      ],
      "execution_count": null,
      "outputs": []
    },
    {
      "cell_type": "code",
      "metadata": {
        "id": "2LIgmBvk2D7A"
      },
      "source": [
        "dataset1 = dataset.repeat(3).batch(7)\n",
        "for item in dataset1:\n",
        "  print(item)"
      ],
      "execution_count": null,
      "outputs": []
    },
    {
      "cell_type": "code",
      "metadata": {
        "id": "o0uPzjd4uN5N"
      },
      "source": [
        "dataset2 = dataset.map(lambda x: x * 2)\n",
        "for item in dataset2.take(3):\n",
        "  print(item)"
      ],
      "execution_count": null,
      "outputs": []
    },
    {
      "cell_type": "code",
      "metadata": {
        "id": "U6t53LtULcIr"
      },
      "source": [
        "dataset3 = tf.data.Dataset.range(10).repeat(3)\n",
        "dataset3 = dataset3.shuffle(buffer_size=5, seed=42).batch(7)\n",
        "for item in dataset3:\n",
        "  print(item)"
      ],
      "execution_count": null,
      "outputs": []
    },
    {
      "cell_type": "code",
      "metadata": {
        "id": "UChsBjp0SqnK"
      },
      "source": [
        "import tensorflow_datasets as tfds\n",
        "tfds.__version__"
      ],
      "execution_count": null,
      "outputs": []
    },
    {
      "cell_type": "code",
      "metadata": {
        "id": "8IRN4rNtS22R"
      },
      "source": [
        "dataset4 = tfds.load(name=\"mnist\")\n",
        "mnist_train, mnist_test = dataset4[\"train\"], dataset4[\"test\"]\n",
        "mnist_train = mnist_train.shuffle(10000).batch(32).prefetch(1)\n",
        "items = mnist_train.map(lambda i: (i[\"image\"], i[\"label\"]))\n",
        "items"
      ],
      "execution_count": null,
      "outputs": []
    }
  ]
}
