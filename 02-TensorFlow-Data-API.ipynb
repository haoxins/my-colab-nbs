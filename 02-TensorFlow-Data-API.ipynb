{
  "nbformat": 4,
  "nbformat_minor": 0,
  "metadata": {
    "orig_nbformat": 2,
    "colab": {
      "name": "TensorFlow Data API",
      "provenance": []
    },
    "kernelspec": {
      "language": "python"
    },
    "accelerator": "GPU"
  },
  "cells": [
    {
      "cell_type": "code",
      "metadata": {
        "id": "Xn6q6luV0etD"
      },
      "source": [
        "import tensorflow as tf\n",
        "\n",
        "tf.__version__"
      ],
      "execution_count": null,
      "outputs": []
    },
    {
      "cell_type": "code",
      "metadata": {
        "id": "SgHAMeLA1bxF"
      },
      "source": [
        "X = tf.range(10)\n",
        "dataset = tf.data.Dataset.from_tensor_slices(X)\n",
        "dataset"
      ],
      "execution_count": null,
      "outputs": []
    },
    {
      "cell_type": "code",
      "metadata": {
        "id": "KWsaVvYp15T7"
      },
      "source": [
        "for item in dataset:\n",
        "  print(item)"
      ],
      "execution_count": null,
      "outputs": []
    },
    {
      "cell_type": "code",
      "metadata": {
        "id": "2LIgmBvk2D7A"
      },
      "source": [
        "dataset2 = dataset.repeat(3).batch(7)\n",
        "for item in dataset2:\n",
        "  print(item)"
      ],
      "execution_count": null,
      "outputs": []
    },
    {
      "cell_type": "code",
      "metadata": {
        "id": "o0uPzjd4uN5N"
      },
      "source": [
        "dataset3 = dataset.map(lambda x: x * 2)\n",
        "for item in dataset3.take(3):\n",
        "  print(item)"
      ],
      "execution_count": null,
      "outputs": []
    }
  ]
}