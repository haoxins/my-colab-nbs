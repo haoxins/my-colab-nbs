{
  "nbformat": 4,
  "nbformat_minor": 0,
  "metadata": {
    "colab": {
      "name": "Basic",
      "provenance": []
    },
    "kernelspec": {
      "name": "python3",
      "display_name": "Python 3"
    }
  },
  "cells": [
    {
      "cell_type": "code",
      "metadata": {
        "id": "4OQMOnpsx2D6"
      },
      "source": [
        "import numpy as np\n",
        "import pandas as pd\n",
        "np.__version__"
      ],
      "execution_count": null,
      "outputs": []
    },
    {
      "cell_type": "code",
      "metadata": {
        "id": "U6O4Lr119-Ip"
      },
      "source": [
        "pd_s1 = pd.Series(['Alex', 'Tina', 'Sandy'])\n",
        "pd_s2 = pd.Series(['Alex', 'Tina', 'Sandy'], index= ['a', 'b', 'c'])\n",
        "pd_s3 = pd.Series({ 'name': 'Xin Hao', 'age': 18 })\n",
        "pd_s3['age'] = 22\n",
        "pd_s3"
      ],
      "execution_count": null,
      "outputs": []
    },
    {
      "cell_type": "code",
      "metadata": {
        "id": "uY6D3VAw_gmv"
      },
      "source": [
        "np_a1 = np.array([[1, 2, 3], [4, 5, 6], [7, 8, 9]])\n",
        "pd_d1 = pd.DataFrame(np_a1)\n",
        "pd_d1"
      ],
      "execution_count": null,
      "outputs": []
    },
    {
      "cell_type": "code",
      "metadata": {
        "id": "q7TkLqTT_3P7"
      },
      "source": [
        "pd_d2 = pd.DataFrame({\n",
        "    'name': ['Alex', 'Tina', 'Sandy'],\n",
        "    'age': [18, 19, 20]\n",
        "})\n",
        "pd_d2\n",
        "# Column\n",
        "pd_d2['name']\n",
        "pd_d2[['name', 'age']]\n",
        "# Row\n",
        "pd_d2.loc[1]\n",
        "pd_d2.loc[[1, 2]]\n",
        "pd_d2.T"
      ],
      "execution_count": null,
      "outputs": []
    }
  ]
}