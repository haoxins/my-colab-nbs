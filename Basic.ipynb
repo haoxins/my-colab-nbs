{
  "nbformat": 4,
  "nbformat_minor": 0,
  "metadata": {
    "colab": {
      "name": "Basic",
      "provenance": [],
      "authorship_tag": "ABX9TyOq11sprkPZqiXAt9LEVZt1"
    },
    "kernelspec": {
      "name": "python3",
      "display_name": "Python 3"
    }
  },
  "cells": [
    {
      "cell_type": "code",
      "metadata": {
        "id": "4OQMOnpsx2D6"
      },
      "source": [
        "import pandas as pd\n",
        "pd.__version__"
      ],
      "execution_count": null,
      "outputs": []
    }
  ]
}