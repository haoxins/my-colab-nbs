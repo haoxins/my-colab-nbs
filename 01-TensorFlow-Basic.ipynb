{
  "nbformat": 4,
  "nbformat_minor": 0,
  "metadata": {
    "kernelspec": {
      "name": "python3",
      "display_name": "Python 3"
    },
    "colab": {
      "name": "TensorFlow Basic",
      "provenance": []
    }
  },
  "cells": [
    {
      "cell_type": "code",
      "metadata": {
        "id": "cNmqUc1AGTez"
      },
      "source": [
        "import tensorflow as tf\n",
        "import numpy as np\n",
        "\n",
        "from tensorflow import keras\n",
        "from tensorflow.keras.models import Model\n",
        "from tensorflow.python.keras.utils.vis_utils import plot_model\n",
        "\n",
        "import sys\n",
        "\n",
        "py_version = sys.version.split(' ')[0]\n",
        "\n",
        "print(f'TensorFlow: {tf.__version__}')\n",
        "print(f'NumPy: {np.__version__}')\n",
        "print(f'Python: {py_version}')"
      ],
      "execution_count": null,
      "outputs": []
    },
    {
      "cell_type": "code",
      "metadata": {
        "id": "emrTbrRFYcAv"
      },
      "source": [
        "tf.constant([[1., 2., 3.], [4., 5., 6.]]) # Matrix"
      ],
      "execution_count": null,
      "outputs": []
    },
    {
      "cell_type": "code",
      "metadata": {
        "id": "3GdNXl_vYhcc"
      },
      "source": [
        "tf.constant(42) # Scalar"
      ],
      "execution_count": null,
      "outputs": []
    },
    {
      "cell_type": "code",
      "metadata": {
        "id": "7ja0twKYYj7x"
      },
      "source": [
        "t = tf.constant([[1., 2., 3.], [4., 5., 6.]])\n",
        "t[:, 1:]"
      ],
      "execution_count": null,
      "outputs": []
    },
    {
      "cell_type": "code",
      "metadata": {
        "id": "zQuXtC4oYnBi"
      },
      "source": [
        "t[..., 1, tf.newaxis]"
      ],
      "execution_count": null,
      "outputs": []
    },
    {
      "cell_type": "code",
      "metadata": {
        "id": "iONgoRQsYqft"
      },
      "source": [
        "t + 10"
      ],
      "execution_count": null,
      "outputs": []
    },
    {
      "cell_type": "code",
      "metadata": {
        "id": "evnWFGzqYthq"
      },
      "source": [
        "tf.square(t)"
      ],
      "execution_count": null,
      "outputs": []
    },
    {
      "cell_type": "code",
      "metadata": {
        "id": "KlfY_M4tYv-7"
      },
      "source": [
        "t @ tf.transpose(t)"
      ],
      "execution_count": null,
      "outputs": []
    },
    {
      "cell_type": "code",
      "metadata": {
        "id": "cW477xb2Y4Yf"
      },
      "source": [
        "K = keras.backend\n",
        "K.square(K.transpose(t)) + 10"
      ],
      "execution_count": null,
      "outputs": []
    },
    {
      "cell_type": "code",
      "metadata": {
        "id": "p7yBzjAjZBii"
      },
      "source": [
        "np.__version__"
      ],
      "execution_count": null,
      "outputs": []
    },
    {
      "cell_type": "code",
      "metadata": {
        "id": "6lMopbG6ZFat"
      },
      "source": [
        "# TensorFlow <> NumPy\n",
        "\n",
        "a = np.array([2., 4., 5.])\n",
        "tf.constant(a)\n",
        "t.numpy()\n",
        "tf.square(a)\n",
        "np.square(t)"
      ],
      "execution_count": null,
      "outputs": []
    },
    {
      "cell_type": "code",
      "metadata": {
        "id": "eplU2w1JZL-G"
      },
      "source": [
        "tf.constant(2., dtype=tf.float64) + tf.constant(40., dtype=tf.float64)"
      ],
      "execution_count": null,
      "outputs": []
    },
    {
      "cell_type": "code",
      "metadata": {
        "id": "7KYCd7kxZO5o"
      },
      "source": [
        "t2 = tf.constant(40., dtype=tf.float64)\n",
        "tf.constant(2.0) + tf.cast(t2, tf.float32)"
      ],
      "execution_count": null,
      "outputs": []
    },
    {
      "cell_type": "code",
      "metadata": {
        "id": "ZzOZ5RtMZRy2"
      },
      "source": [
        "v = tf.Variable([[1., 2., 3.], [4., 5., 6.]])\n",
        "v"
      ],
      "execution_count": null,
      "outputs": []
    },
    {
      "cell_type": "code",
      "metadata": {
        "id": "K9qgpdfShzCD"
      },
      "source": [
        "v.assign(2 * v)\n",
        "v[0, 1].assign(42)\n",
        "v[:, 2].assign([0., 1.])\n",
        "v.scatter_nd_update(indices=[[0, 0], [1, 2]], updates=[100., 200.])"
      ],
      "execution_count": null,
      "outputs": []
    },
    {
      "cell_type": "code",
      "metadata": {
        "id": "Fal_9L0mlJkL"
      },
      "source": [
        "def huber_fn(y_true, y_pred):\n",
        "  error = y_true - y_pred\n",
        "  is_small_error = tf.abs(error) < 1\n",
        "  squared_loss = tf.square(error) / 2\n",
        "  linear_loss = tf.abs(error) - 0.5\n",
        "  return tf.where(is_small_error, squared_loss, linear_loss)"
      ],
      "execution_count": null,
      "outputs": []
    },
    {
      "cell_type": "code",
      "metadata": {
        "id": "1TYmC3WBpDTA"
      },
      "source": [
        "def create_huber(threshold=1.0):\n",
        "  def huber_fn(y_true, y_pred):\n",
        "    error = y_true - y_pred\n",
        "    is_small_error = tf.abs(error) < threshold\n",
        "    squared_loss = tf.square(error) / 2\n",
        "    linear_loss = threshold * tf.abs(error) - threshold**2 / 2\n",
        "    return tf.where(is_small_error, squared_loss, linear_loss)\n",
        "  return huber_fn\n"
      ],
      "execution_count": null,
      "outputs": []
    },
    {
      "cell_type": "code",
      "metadata": {
        "id": "8WcEVCTxp8nJ"
      },
      "source": [
        "class HuberLoss(keras.losses.Loss):\n",
        "  def __init__(self, threshold=1.0, **kwargs):\n",
        "    self.threshold = threshold\n",
        "    super().__init__(**kwargs)\n",
        "  def call(self, y_true, y_pred):\n",
        "    error = y_true - y_pred\n",
        "    is_small_error = tf.abs(error) < self.threshold\n",
        "    squared_loss = tf.square(error) / 2\n",
        "    linear_loss = self.threshold * tf.abs(error) - self.threshold**2 / 2\n",
        "    return tf.where(is_small_error, squared_loss, linear_loss)\n",
        "  def get_config(self):\n",
        "    base_config = super().get_config()\n",
        "    return {**base_config, \"threshold\": self.threshold}"
      ],
      "execution_count": null,
      "outputs": []
    },
    {
      "cell_type": "code",
      "metadata": {
        "id": "DMrV8CMZvz-Z"
      },
      "source": [
        "def f(w1, w2):\n",
        "  return 3 * w1 ** 2 + 2 * w1 * w2\n",
        "\n",
        "w1, w2 = 5, 3\n",
        "eps = 1e-6\n",
        "(f(w1 + eps, w2) - f(w1, w2)) / eps"
      ],
      "execution_count": null,
      "outputs": []
    },
    {
      "cell_type": "code",
      "metadata": {
        "id": "qAydq0hpWCGq"
      },
      "source": [
        "(f(w1, w2 + eps) - f(w1, w2)) / eps"
      ],
      "execution_count": null,
      "outputs": []
    },
    {
      "cell_type": "code",
      "metadata": {
        "id": "oqaAe2sdWMHw"
      },
      "source": [
        "w1, w2 = tf.Variable(5.), tf.Variable(3.)\n",
        "with tf.GradientTape() as tape:\n",
        "  z = f(w1, w2)\n",
        "\n",
        "gradients = tape.gradient(z, [w1, w2])\n",
        "gradients"
      ],
      "execution_count": null,
      "outputs": []
    },
    {
      "cell_type": "code",
      "metadata": {
        "id": "xhehgPX6Yj74"
      },
      "source": [
        "c1, c2 = tf.constant(5.), tf.constant(3.)\n",
        "with tf.GradientTape() as tape:\n",
        "  z = f(c1, c2)\n",
        "\n",
        "gradients = tape.gradient(z, [c1, c2])\n",
        "gradients # Returns [None, None]"
      ],
      "execution_count": null,
      "outputs": []
    },
    {
      "cell_type": "code",
      "metadata": {
        "id": "EV7QbLQHZGAa"
      },
      "source": [
        "with tf.GradientTape() as tape:\n",
        "  tape.watch(c1)\n",
        "  tape.watch(c2)\n",
        "  z = f(c1, c2)\n",
        "\n",
        "gradients = tape.gradient(z, [c1, c2])\n",
        "gradients # Returns [tensor 36., tensor 10.]"
      ],
      "execution_count": null,
      "outputs": []
    },
    {
      "cell_type": "code",
      "metadata": {
        "id": "RywIEyvWZibn"
      },
      "source": [
        "def cube(x):\n",
        "  return x ** 3\n",
        "\n",
        "cube(2)\n",
        "cube(tf.constant(2))\n",
        "cube(tf.constant(2.))"
      ],
      "execution_count": null,
      "outputs": []
    },
    {
      "cell_type": "code",
      "metadata": {
        "id": "a30tw_rRaVCW"
      },
      "source": [
        "tf_cube = tf.function(cube)\n",
        "tf_cube(2)\n",
        "tf_cube(tf.constant(2.0))"
      ],
      "execution_count": null,
      "outputs": []
    },
    {
      "cell_type": "code",
      "metadata": {
        "id": "PgXegExQa1lQ"
      },
      "source": [
        "@tf.function\n",
        "def tf_cube(x):\n",
        "  return x ** 3\n",
        "\n",
        "tf_cube.python_function(2.)"
      ],
      "execution_count": null,
      "outputs": []
    },
    {
      "cell_type": "code",
      "metadata": {
        "id": "PR1CfLY9WDKe"
      },
      "source": [
        "# Sequential vs Functional\n",
        "\n",
        "def build_model_with_sequential():\n",
        "  seq_model = tf.keras.models.Sequential([\n",
        "    tf.keras.layers.Flatten(input_shape=(28, 28)),\n",
        "    tf.keras.layers.Dense(128, activation=tf.nn.relu),\n",
        "    tf.keras.layers.Dense(10, activation=tf.nn.softmax)\n",
        "  ])\n",
        "  return seq_model\n",
        "\n",
        "def build_model_with_functional():\n",
        "  input_layer = tf.keras.Input(shape=(28, 28))\n",
        "\n",
        "  flatten_layer = tf.keras.layers.Flatten()(input_layer)\n",
        "  first_dense = tf.keras.layers.Dense(128, activation=tf.nn.relu)(flatten_layer)\n",
        "  output_layer = tf.keras.layers.Dense(10, activation=tf.nn.softmax)(first_dense)\n",
        "\n",
        "  func_model = Model(inputs=input_layer, outputs=output_layer)\n",
        "\n",
        "  return func_model\n",
        "\n",
        "# Build\n",
        "model = build_model_with_functional()\n",
        "# model = build_model_with_sequential()\n",
        "\n",
        "plot_model(model, show_shapes=True, show_layer_names=True)\n",
        "\n",
        "# Training\n",
        "mnist = tf.keras.datasets.fashion_mnist\n",
        "(training_images, training_labels), (test_images, test_labels) = mnist.load_data()\n",
        "training_images = training_images / 255.0\n",
        "test_images = test_images / 255.0\n",
        "\n",
        "model.compile(\n",
        "  optimizer=tf.optimizers.Adam(),\n",
        "  loss='sparse_categorical_crossentropy',\n",
        "  metrics=['accuracy']\n",
        ")\n",
        "\n",
        "model.fit(training_images, training_labels, epochs=5)\n",
        "model.evaluate(test_images, test_labels)"
      ],
      "execution_count": null,
      "outputs": []
    }
  ]
}